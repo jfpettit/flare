{
 "cells": [
  {
   "cell_type": "code",
   "execution_count": 9,
   "metadata": {},
   "outputs": [],
   "source": [
    "from TD_agent import td_agent\n",
    "from TicTacToe import tictactoe"
   ]
  },
  {
   "cell_type": "code",
   "execution_count": 10,
   "metadata": {},
   "outputs": [],
   "source": [
    "game = tictactoe()\n",
    "state_array = game.gen_state_arr()"
   ]
  },
  {
   "cell_type": "code",
   "execution_count": 11,
   "metadata": {},
   "outputs": [],
   "source": [
    "x_vals = game.gen_x_values(state_array)\n",
    "o_vals = game.gen_o_values(state_array)"
   ]
  },
  {
   "cell_type": "code",
   "execution_count": 13,
   "metadata": {},
   "outputs": [],
   "source": [
    "x_agent = td_agent(x_vals, 0.2, None)\n",
    "o_agent = td_agent(o_vals, 0.2, None)"
   ]
  },
  {
   "cell_type": "code",
   "execution_count": null,
   "metadata": {},
   "outputs": [],
   "source": [
    "n = 3\n",
    "epochs = 500\n",
    "\n",
    "for i in range(epochs):\n",
    "    current_state = state_array[0]\n",
    "    turn_counter = 0\n",
    "    \n",
    "    while game.check_over(current_state, n) == 0.5 and turn_counter <= 8:\n",
    "        current_state_index = game.get_current_state_index(current_state, state_array)\n",
    "        \n",
    "        if turn_counter % 2 == 0:\n",
    "            next_move_indices = game.find_next_move(state_array, current_state, 1)\n",
    "            new_move_index = x_agent.get_move_update_values(next_move_indices, current_state_index)\n",
    "            current_state = state_array[new_move_index]\n",
    "            \n",
    "        else:\n",
    "            next_move_indices = game.find_next_move(state_array, current_state, 2)\n",
    "            new_move_index = o_agent.get_move_update_values(next_move_indices, current_state_index)\n",
    "            current_state = state_array[new_move_index]\n",
    "            \n",
    "            "
   ]
  }
 ],
 "metadata": {
  "kernelspec": {
   "display_name": "Python 3",
   "language": "python",
   "name": "python3"
  },
  "language_info": {
   "codemirror_mode": {
    "name": "ipython",
    "version": 3
   },
   "file_extension": ".py",
   "mimetype": "text/x-python",
   "name": "python",
   "nbconvert_exporter": "python",
   "pygments_lexer": "ipython3",
   "version": "3.7.2"
  }
 },
 "nbformat": 4,
 "nbformat_minor": 2
}
