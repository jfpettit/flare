{
 "cells": [
  {
   "cell_type": "markdown",
   "metadata": {},
   "source": [
    "Credit for the Gridworld Environment goes to Denny Britz: [code here](https://github.com/dennybritz/reinforcement-learning/blob/master/lib/envs/gridworld.py)."
   ]
  },
  {
   "cell_type": "code",
   "execution_count": 1,
   "metadata": {},
   "outputs": [],
   "source": [
    "from britz_gridworld import GridworldEnv\n",
    "import numpy as np\n",
    "import io\n",
    "import sys\n",
    "from gym.envs.toy_text import discrete"
   ]
  },
  {
   "cell_type": "code",
   "execution_count": 2,
   "metadata": {},
   "outputs": [],
   "source": [
    "gridworld = GridworldEnv()"
   ]
  },
  {
   "cell_type": "code",
   "execution_count": 3,
   "metadata": {},
   "outputs": [],
   "source": [
    "class policy_iteration:\n",
    "    def __init__(self, environment, discount, threshold, maxiter):\n",
    "        self.environment = environment\n",
    "        self.discount = discount\n",
    "        self.num_states = environment.nS\n",
    "        self.num_actions = environment.nA\n",
    "        self.threshold = threshold\n",
    "        self.maxiter = maxiter\n",
    "        \n",
    "    def evaluation(self, policy):\n",
    "        v_0 = np.zeros(self.num_states)\n",
    "\n",
    "        for i in range(self.maxiter):\n",
    "            DELTA = 0\n",
    "            for i in range(self.num_states):\n",
    "                v_ = 0\n",
    "                for act, actprob in enumerate(policy[i]):\n",
    "                    for prob, state, r, over in self.environment.P[i][act]:\n",
    "                        v_ += actprob * prob * (r + self.discount * v_0[state])\n",
    "\n",
    "                DELTA = max(DELTA, np.abs(v_ - v_0[i]))\n",
    "                v_0[i] = v_\n",
    "\n",
    "            if DELTA < self.threshold: \n",
    "                break\n",
    "\n",
    "        return np.array(v_0)\n",
    "        \n",
    "    def lookahead(self, current_state, V):\n",
    "        A = np.zeros(self.num_actions)\n",
    "\n",
    "        for acts in range(self.num_actions):\n",
    "            for prob, next_state, r, over in self.environment.P[current_state][acts]:\n",
    "                A[acts] += prob * (r + self.discount * V[next_state])\n",
    "        return A\n",
    "    \n",
    "    def improvement(self, evaluation_function):\n",
    "        policy = np.ones([self.num_states, self.num_actions]) / self.num_actions\n",
    "        \n",
    "        for i in range(self.maxiter):\n",
    "            V_func = evaluation_function(policy)\n",
    "            stable = True\n",
    "            \n",
    "            for state in range(self.num_states):\n",
    "                picked_action = np.argmax(policy[state])\n",
    "                \n",
    "                act_vals = self.lookahead(state, V_func)\n",
    "                optimal_action = np.argmax(act_vals)\n",
    "                \n",
    "                if picked_action is not optimal_action:\n",
    "                    stable = False\n",
    "                    \n",
    "                policy[state] = np.eye(self.num_actions)[optimal_action]\n",
    "            \n",
    "            if stable:\n",
    "                return policy, V_func\n",
    "            \n",
    "        return policy, V_func\n",
    "        "
   ]
  },
  {
   "cell_type": "code",
   "execution_count": 4,
   "metadata": {},
   "outputs": [],
   "source": [
    "pol_iter = policy_iteration(gridworld, 1.0, 1e-2, 10000)\n",
    "policy, value_function = pol_iter.improvement(pol_iter.evaluation)"
   ]
  },
  {
   "cell_type": "code",
   "execution_count": 5,
   "metadata": {},
   "outputs": [
    {
     "name": "stdout",
     "output_type": "stream",
     "text": [
      "The policy\n"
     ]
    },
    {
     "data": {
      "text/plain": [
       "array([[1., 0., 0., 0.],\n",
       "       [0., 0., 0., 1.],\n",
       "       [0., 0., 0., 1.],\n",
       "       [0., 0., 1., 0.],\n",
       "       [1., 0., 0., 0.],\n",
       "       [1., 0., 0., 0.],\n",
       "       [1., 0., 0., 0.],\n",
       "       [0., 0., 1., 0.],\n",
       "       [1., 0., 0., 0.],\n",
       "       [1., 0., 0., 0.],\n",
       "       [0., 1., 0., 0.],\n",
       "       [0., 0., 1., 0.],\n",
       "       [1., 0., 0., 0.],\n",
       "       [0., 1., 0., 0.],\n",
       "       [0., 1., 0., 0.],\n",
       "       [1., 0., 0., 0.]])"
      ]
     },
     "execution_count": 5,
     "metadata": {},
     "output_type": "execute_result"
    }
   ],
   "source": [
    "print('The policy')\n",
    "policy"
   ]
  },
  {
   "cell_type": "code",
   "execution_count": 6,
   "metadata": {},
   "outputs": [
    {
     "name": "stdout",
     "output_type": "stream",
     "text": [
      "Policy reshaped onto gridworld\n",
      "0 -> up; 1 -> right; 2 -> down; 3 -> left\n"
     ]
    },
    {
     "data": {
      "text/plain": [
       "array([[0, 3, 3, 2],\n",
       "       [0, 0, 0, 2],\n",
       "       [0, 0, 1, 2],\n",
       "       [0, 1, 1, 0]])"
      ]
     },
     "execution_count": 6,
     "metadata": {},
     "output_type": "execute_result"
    }
   ],
   "source": [
    "print('Policy reshaped onto gridworld')\n",
    "print('0 -> up; 1 -> right; 2 -> down; 3 -> left')\n",
    "np.argmax(policy, axis=1).reshape(gridworld.shape)"
   ]
  },
  {
   "cell_type": "code",
   "execution_count": 7,
   "metadata": {},
   "outputs": [
    {
     "name": "stdout",
     "output_type": "stream",
     "text": [
      "Value function\n"
     ]
    },
    {
     "data": {
      "text/plain": [
       "array([ 0., -1., -2., -3., -1., -2., -3., -2., -2., -3., -2., -1., -3.,\n",
       "       -2., -1.,  0.])"
      ]
     },
     "execution_count": 7,
     "metadata": {},
     "output_type": "execute_result"
    }
   ],
   "source": [
    "print('Value function')\n",
    "value_function"
   ]
  },
  {
   "cell_type": "code",
   "execution_count": 8,
   "metadata": {},
   "outputs": [
    {
     "name": "stdout",
     "output_type": "stream",
     "text": [
      "Value function reshaped onto gridworld\n"
     ]
    },
    {
     "data": {
      "text/plain": [
       "array([[ 0., -1., -2., -3.],\n",
       "       [-1., -2., -3., -2.],\n",
       "       [-2., -3., -2., -1.],\n",
       "       [-3., -2., -1.,  0.]])"
      ]
     },
     "execution_count": 8,
     "metadata": {},
     "output_type": "execute_result"
    }
   ],
   "source": [
    "print('Value function reshaped onto gridworld')\n",
    "value_function.reshape(gridworld.shape)"
   ]
  },
  {
   "cell_type": "code",
   "execution_count": 31,
   "metadata": {},
   "outputs": [
    {
     "name": "stdout",
     "output_type": "stream",
     "text": [
      "T  o  o  o\n",
      "o  o  o  o\n",
      "o  o  o  o\n",
      "o  o  o  x\n",
      "None\n",
      "TERMINAL STATE REACHED\n"
     ]
    }
   ],
   "source": [
    "import time\n",
    "from IPython.display import clear_output\n",
    "gridworld.reset()\n",
    "TERMINAL = False\n",
    "while TERMINAL is False:\n",
    "    print(gridworld._render())\n",
    "    time.sleep(1.5)\n",
    "    state = gridworld.s\n",
    "    if state == 0 or state == 15:\n",
    "        print('TERMINAL STATE REACHED')\n",
    "        TERMINAL = True\n",
    "        break\n",
    "    action = np.argmax(policy[state])\n",
    "    gridworld.step(action)\n",
    "    clear_output(wait=True)\n",
    "    "
   ]
  },
  {
   "cell_type": "code",
   "execution_count": null,
   "metadata": {},
   "outputs": [],
   "source": []
  }
 ],
 "metadata": {
  "kernelspec": {
   "display_name": "Python 3",
   "language": "python",
   "name": "python3"
  },
  "language_info": {
   "codemirror_mode": {
    "name": "ipython",
    "version": 3
   },
   "file_extension": ".py",
   "mimetype": "text/x-python",
   "name": "python",
   "nbconvert_exporter": "python",
   "pygments_lexer": "ipython3",
   "version": "3.7.2"
  }
 },
 "nbformat": 4,
 "nbformat_minor": 2
}
